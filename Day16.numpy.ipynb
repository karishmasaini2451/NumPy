{
 "cells": [
  {
   "cell_type": "markdown",
   "id": "ab7e31e8",
   "metadata": {},
   "source": [
    "Write a NumPy program to extract all numbers from a given array which are less and greater than a specified number."
   ]
  },
  {
   "cell_type": "code",
   "execution_count": 4,
   "id": "bfbb0957",
   "metadata": {},
   "outputs": [],
   "source": [
    "import numpy as np"
   ]
  },
  {
   "cell_type": "code",
   "execution_count": 5,
   "id": "57891bf6",
   "metadata": {},
   "outputs": [
    {
     "name": "stdout",
     "output_type": "stream",
     "text": [
      "numbers greater than 50:\n",
      "[100 200  78  89  90  98  76  54]\n",
      "number les than 50:\n",
      "[45 34 46 12]\n"
     ]
    }
   ],
   "source": [
    "a = np.array([[100,200,45],[34,46,78],[89,90,12],[98,76,54]])\n",
    "a\n",
    "print('numbers greater than 50:')\n",
    "print(a[a>50])\n",
    "print('number les than 50:')\n",
    "print(a[a<50])\n"
   ]
  }
 ],
 "metadata": {
  "kernelspec": {
   "display_name": "Python 3",
   "language": "python",
   "name": "python3"
  },
  "language_info": {
   "codemirror_mode": {
    "name": "ipython",
    "version": 3
   },
   "file_extension": ".py",
   "mimetype": "text/x-python",
   "name": "python",
   "nbconvert_exporter": "python",
   "pygments_lexer": "ipython3",
   "version": "3.8.8"
  }
 },
 "nbformat": 4,
 "nbformat_minor": 5
}
