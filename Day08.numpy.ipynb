{
 "cells": [
  {
   "cell_type": "markdown",
   "id": "4245d067",
   "metadata": {},
   "source": [
    "Write a NumPy program to create a vector with values from 0 to 20 and change the sign of the numbers in the range from 9 to 15"
   ]
  },
  {
   "cell_type": "code",
   "execution_count": 2,
   "id": "56fb6651",
   "metadata": {},
   "outputs": [],
   "source": [
    "import numpy as np"
   ]
  },
  {
   "cell_type": "code",
   "execution_count": 3,
   "id": "3137c980",
   "metadata": {},
   "outputs": [
    {
     "name": "stdout",
     "output_type": "stream",
     "text": [
      "[ 0  1  2  3  4  5  6  7  8  9 10 11 12 13 14 15 16 17 18 19 20]\n",
      "new vector after changing the sign from9 to 15\n",
      "[  0   1   2   3   4   5   6   7   8  -9 -10 -11 -12 -13 -14 -15  16  17\n",
      "  18  19  20]\n"
     ]
    }
   ],
   "source": [
    "a = np.arange(0,21)\n",
    "print(a)\n",
    "print('new vector after changing the sign from9 to 15')\n",
    "a[(a >=9) & (a<=15)]*=-1\n",
    "print(a)"
   ]
  }
 ],
 "metadata": {
  "kernelspec": {
   "display_name": "Python 3",
   "language": "python",
   "name": "python3"
  },
  "language_info": {
   "codemirror_mode": {
    "name": "ipython",
    "version": 3
   },
   "file_extension": ".py",
   "mimetype": "text/x-python",
   "name": "python",
   "nbconvert_exporter": "python",
   "pygments_lexer": "ipython3",
   "version": "3.8.8"
  }
 },
 "nbformat": 4,
 "nbformat_minor": 5
}
