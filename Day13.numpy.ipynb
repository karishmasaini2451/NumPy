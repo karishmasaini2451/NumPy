{
 "cells": [
  {
   "cell_type": "markdown",
   "id": "95c29a3e",
   "metadata": {},
   "source": [
    "Write a NumPy program to compute sum of all elements, sum of each column and sum of each row of a given array."
   ]
  },
  {
   "cell_type": "code",
   "execution_count": 2,
   "id": "89a190d0",
   "metadata": {},
   "outputs": [],
   "source": [
    "import numpy as np"
   ]
  },
  {
   "cell_type": "code",
   "execution_count": 3,
   "id": "55d6e33c",
   "metadata": {},
   "outputs": [
    {
     "name": "stdout",
     "output_type": "stream",
     "text": [
      "sum of rows:\n",
      "[ 9 12 15]\n",
      "sum of cloumns:\n",
      "[ 6  9 21]\n",
      "sum of all elements\n",
      "36\n"
     ]
    }
   ],
   "source": [
    "a = np.array([[1,2,3],[2,3,4],[6,7,8]])\n",
    "a\n",
    "print('sum of rows:')\n",
    "print(np.sum(a,axis = 0))\n",
    "print('sum of cloumns:')\n",
    "print(np.sum(a,axis =1))\n",
    "print('sum of all elements')\n",
    "print(np.sum(a))"
   ]
  }
 ],
 "metadata": {
  "kernelspec": {
   "display_name": "Python 3",
   "language": "python",
   "name": "python3"
  },
  "language_info": {
   "codemirror_mode": {
    "name": "ipython",
    "version": 3
   },
   "file_extension": ".py",
   "mimetype": "text/x-python",
   "name": "python",
   "nbconvert_exporter": "python",
   "pygments_lexer": "ipython3",
   "version": "3.8.8"
  }
 },
 "nbformat": 4,
 "nbformat_minor": 5
}
