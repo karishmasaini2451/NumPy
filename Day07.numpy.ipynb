{
 "cells": [
  {
   "cell_type": "markdown",
   "id": "ccc6b57c",
   "metadata": {},
   "source": [
    "write a numpy program to swap the rows and column of a given array in reverse order."
   ]
  },
  {
   "cell_type": "code",
   "execution_count": 2,
   "id": "9ac5baba",
   "metadata": {},
   "outputs": [],
   "source": [
    "import numpy as np"
   ]
  },
  {
   "cell_type": "code",
   "execution_count": 3,
   "id": "f181c6cd",
   "metadata": {},
   "outputs": [
    {
     "data": {
      "text/plain": [
       "array([[ 20,  40,  78,  79],\n",
       "       [ 12,  34,  56, 100],\n",
       "       [ 11,  22,  33,  44]])"
      ]
     },
     "execution_count": 3,
     "metadata": {},
     "output_type": "execute_result"
    }
   ],
   "source": [
    "a = np.array([[20,40,78,79],[12,34,56,100],[11,22,33,44]])\n",
    "a"
   ]
  },
  {
   "cell_type": "code",
   "execution_count": 4,
   "id": "7b685fa0",
   "metadata": {},
   "outputs": [
    {
     "data": {
      "text/plain": [
       "array([[ 44,  33,  22,  11],\n",
       "       [100,  56,  34,  12],\n",
       "       [ 79,  78,  40,  20]])"
      ]
     },
     "execution_count": 4,
     "metadata": {},
     "output_type": "execute_result"
    }
   ],
   "source": [
    "a[ : :-1,: :-1]"
   ]
  }
 ],
 "metadata": {
  "kernelspec": {
   "display_name": "Python 3",
   "language": "python",
   "name": "python3"
  },
  "language_info": {
   "codemirror_mode": {
    "name": "ipython",
    "version": 3
   },
   "file_extension": ".py",
   "mimetype": "text/x-python",
   "name": "python",
   "nbconvert_exporter": "python",
   "pygments_lexer": "ipython3",
   "version": "3.8.8"
  }
 },
 "nbformat": 4,
 "nbformat_minor": 5
}
