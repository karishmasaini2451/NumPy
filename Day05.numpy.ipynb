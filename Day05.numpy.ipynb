{
 "cells": [
  {
   "cell_type": "markdown",
   "id": "1dfefaf5",
   "metadata": {},
   "source": [
    " write a python program to generate an array of 15 random number from a standard normal distribution?"
   ]
  },
  {
   "cell_type": "code",
   "execution_count": 2,
   "id": "afebe0b5",
   "metadata": {},
   "outputs": [],
   "source": [
    "import numpy as np"
   ]
  },
  {
   "cell_type": "code",
   "execution_count": 3,
   "id": "1d31130a",
   "metadata": {},
   "outputs": [
    {
     "name": "stdout",
     "output_type": "stream",
     "text": [
      "[[ 0.88196068  1.13261719  1.90496884]\n",
      " [ 1.3493629   0.34111659  0.53053138]\n",
      " [-0.49458942  0.00318014 -1.62356896]]\n"
     ]
    }
   ],
   "source": [
    "import numpy as np\n",
    "number = np.random.randn(3,3)\n",
    "print(number)"
   ]
  }
 ],
 "metadata": {
  "kernelspec": {
   "display_name": "Python 3",
   "language": "python",
   "name": "python3"
  },
  "language_info": {
   "codemirror_mode": {
    "name": "ipython",
    "version": 3
   },
   "file_extension": ".py",
   "mimetype": "text/x-python",
   "name": "python",
   "nbconvert_exporter": "python",
   "pygments_lexer": "ipython3",
   "version": "3.8.8"
  }
 },
 "nbformat": 4,
 "nbformat_minor": 5
}
