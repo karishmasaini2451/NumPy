{
 "cells": [
  {
   "cell_type": "markdown",
   "id": "ce4be924",
   "metadata": {},
   "source": [
    "Write a NumPy program to create a 4x4 array with random values, now create a new array from the said array swapping first and last rows"
   ]
  },
  {
   "cell_type": "code",
   "execution_count": 1,
   "id": "1c9c62f2",
   "metadata": {},
   "outputs": [],
   "source": [
    "import numpy as np"
   ]
  },
  {
   "cell_type": "code",
   "execution_count": 2,
   "id": "f5ae4c28",
   "metadata": {},
   "outputs": [
    {
     "data": {
      "text/plain": [
       "array([[7, 2, 8, 0],\n",
       "       [9, 0, 8, 0],\n",
       "       [6, 4, 8, 7],\n",
       "       [7, 7, 8, 4]])"
      ]
     },
     "execution_count": 2,
     "metadata": {},
     "output_type": "execute_result"
    }
   ],
   "source": [
    "a = np.random.randint(0,10,16).reshape(4,4)\n",
    "a"
   ]
  },
  {
   "cell_type": "code",
   "execution_count": 3,
   "id": "a075d4fd",
   "metadata": {},
   "outputs": [
    {
     "data": {
      "text/plain": [
       "array([[7, 7, 8, 4],\n",
       "       [6, 4, 8, 7],\n",
       "       [9, 0, 8, 0],\n",
       "       [7, 2, 8, 0]])"
      ]
     },
     "execution_count": 3,
     "metadata": {},
     "output_type": "execute_result"
    }
   ],
   "source": [
    "a[ : :-1]"
   ]
  }
 ],
 "metadata": {
  "kernelspec": {
   "display_name": "Python 3",
   "language": "python",
   "name": "python3"
  },
  "language_info": {
   "codemirror_mode": {
    "name": "ipython",
    "version": 3
   },
   "file_extension": ".py",
   "mimetype": "text/x-python",
   "name": "python",
   "nbconvert_exporter": "python",
   "pygments_lexer": "ipython3",
   "version": "3.8.8"
  }
 },
 "nbformat": 4,
 "nbformat_minor": 5
}
